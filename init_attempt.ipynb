{
 "cells": [
  {
   "cell_type": "markdown",
   "metadata": {},
   "source": [
    "## EDA"
   ]
  },
  {
   "cell_type": "code",
   "execution_count": 45,
   "metadata": {},
   "outputs": [],
   "source": [
    "#import libraries\n",
    "from datetime import datetime\n",
    "import pandas as pd\n",
    "import numpy as np\n",
    "import matplotlib.pyplot as plt\n",
    "%matplotlib inline"
   ]
  },
  {
   "cell_type": "code",
   "execution_count": 46,
   "metadata": {},
   "outputs": [
    {
     "name": "stdout",
     "output_type": "stream",
     "text": [
      "movieId    0\n",
      "title      0\n",
      "genres     0\n",
      "dtype: int64\n",
      "userId       0\n",
      "movieId      0\n",
      "rating       0\n",
      "timestamp    0\n",
      "dtype: int64\n"
     ]
    }
   ],
   "source": [
    "#import the tables\n",
    "movieDF = pd.read_csv(\"files/movie.csv\")\n",
    "ratingDF = pd.read_csv(\"files/rating.csv\")\n",
    "\n",
    "#check nulls\n",
    "print(movieDF.isnull().sum())\n",
    "print(ratingDF.isnull().sum())"
   ]
  },
  {
   "cell_type": "code",
   "execution_count": 47,
   "metadata": {},
   "outputs": [
    {
     "data": {
      "text/html": [
       "<div>\n",
       "<style scoped>\n",
       "    .dataframe tbody tr th:only-of-type {\n",
       "        vertical-align: middle;\n",
       "    }\n",
       "\n",
       "    .dataframe tbody tr th {\n",
       "        vertical-align: top;\n",
       "    }\n",
       "\n",
       "    .dataframe thead th {\n",
       "        text-align: right;\n",
       "    }\n",
       "</style>\n",
       "<table border=\"1\" class=\"dataframe\">\n",
       "  <thead>\n",
       "    <tr style=\"text-align: right;\">\n",
       "      <th></th>\n",
       "      <th>movieId</th>\n",
       "      <th>title</th>\n",
       "      <th>genres</th>\n",
       "      <th>userId</th>\n",
       "      <th>rating</th>\n",
       "      <th>timestamp</th>\n",
       "    </tr>\n",
       "  </thead>\n",
       "  <tbody>\n",
       "    <tr>\n",
       "      <th>0</th>\n",
       "      <td>1</td>\n",
       "      <td>Toy Story (1995)</td>\n",
       "      <td>Adventure|Animation|Children|Comedy|Fantasy</td>\n",
       "      <td>3</td>\n",
       "      <td>4.0</td>\n",
       "      <td>1999-12-11 13:36:47</td>\n",
       "    </tr>\n",
       "    <tr>\n",
       "      <th>1</th>\n",
       "      <td>1</td>\n",
       "      <td>Toy Story (1995)</td>\n",
       "      <td>Adventure|Animation|Children|Comedy|Fantasy</td>\n",
       "      <td>6</td>\n",
       "      <td>5.0</td>\n",
       "      <td>1997-03-13 17:50:52</td>\n",
       "    </tr>\n",
       "    <tr>\n",
       "      <th>2</th>\n",
       "      <td>1</td>\n",
       "      <td>Toy Story (1995)</td>\n",
       "      <td>Adventure|Animation|Children|Comedy|Fantasy</td>\n",
       "      <td>8</td>\n",
       "      <td>4.0</td>\n",
       "      <td>1996-06-05 13:37:51</td>\n",
       "    </tr>\n",
       "    <tr>\n",
       "      <th>3</th>\n",
       "      <td>1</td>\n",
       "      <td>Toy Story (1995)</td>\n",
       "      <td>Adventure|Animation|Children|Comedy|Fantasy</td>\n",
       "      <td>10</td>\n",
       "      <td>4.0</td>\n",
       "      <td>1999-11-25 02:44:47</td>\n",
       "    </tr>\n",
       "    <tr>\n",
       "      <th>4</th>\n",
       "      <td>1</td>\n",
       "      <td>Toy Story (1995)</td>\n",
       "      <td>Adventure|Animation|Children|Comedy|Fantasy</td>\n",
       "      <td>11</td>\n",
       "      <td>4.5</td>\n",
       "      <td>2009-01-02 01:13:41</td>\n",
       "    </tr>\n",
       "  </tbody>\n",
       "</table>\n",
       "</div>"
      ],
      "text/plain": [
       "   movieId             title                                       genres  \\\n",
       "0        1  Toy Story (1995)  Adventure|Animation|Children|Comedy|Fantasy   \n",
       "1        1  Toy Story (1995)  Adventure|Animation|Children|Comedy|Fantasy   \n",
       "2        1  Toy Story (1995)  Adventure|Animation|Children|Comedy|Fantasy   \n",
       "3        1  Toy Story (1995)  Adventure|Animation|Children|Comedy|Fantasy   \n",
       "4        1  Toy Story (1995)  Adventure|Animation|Children|Comedy|Fantasy   \n",
       "\n",
       "   userId  rating            timestamp  \n",
       "0       3     4.0  1999-12-11 13:36:47  \n",
       "1       6     5.0  1997-03-13 17:50:52  \n",
       "2       8     4.0  1996-06-05 13:37:51  \n",
       "3      10     4.0  1999-11-25 02:44:47  \n",
       "4      11     4.5  2009-01-02 01:13:41  "
      ]
     },
     "execution_count": 47,
     "metadata": {},
     "output_type": "execute_result"
    }
   ],
   "source": [
    "#merge rating dataframe and movie dataframe\n",
    "movieRating = movieDF.merge(ratingDF)\n",
    "movieRating.head()"
   ]
  },
  {
   "cell_type": "code",
   "execution_count": 61,
   "metadata": {},
   "outputs": [],
   "source": [
    "#attempt to install the libraries\n",
    "import numpy as np\n",
    "import pandas as pd\n",
    "\n",
    "import matplotlib.pyplot as plt\n",
    "\n",
    "\n",
    "from sklearn.neighbors import KNeighborsClassifier\n",
    "from sklearn.model_selection import train_test_split\n",
    "\n",
    "from sklearn.preprocessing import OneHotEncoder"
   ]
  },
  {
   "cell_type": "code",
   "execution_count": 62,
   "metadata": {},
   "outputs": [],
   "source": [
    "X=movieRating.copy().drop(columns=['title', 'genres', 'timestamp', 'userId']).values\n",
    "y=movieRating['title'].values\n",
    "#split the dataset\n",
    "X_train, X_test, y_train, y_test = train_test_split(X, y, random_state = 32)"
   ]
  },
  {
   "cell_type": "code",
   "execution_count": 50,
   "metadata": {},
   "outputs": [
    {
     "name": "stderr",
     "output_type": "stream",
     "text": [
      "C:\\Users\\ronie\\AppData\\Local\\Temp/ipykernel_2668/766991987.py:2: FutureWarning: The default value of regex will change from True to False in a future version. In addition, single character regular expressions will *not* be treated as literal strings when regex=True.\n",
      "  movieRating['genres'] = movieRating['genres'].str.replace('|',',')\n"
     ]
    }
   ],
   "source": [
    "#reformat the values of the genre\n",
    "movieRating['genres'] = movieRating['genres'].str.replace('|',',')\n",
    "movieRating['genres'] = movieRating['genres'].tolist()"
   ]
  },
  {
   "cell_type": "code",
   "execution_count": 55,
   "metadata": {},
   "outputs": [],
   "source": [
    "# movieRating.genres = movieRating.genres.apply(lambda x: eval(x))\n",
    "\n",
    "# exploded_df = df.explode(column='genres')\n",
    "# pd.get_dummies(exploded_df, columns=['genres']).groupby('title', as_index=False).sum()"
   ]
  },
  {
   "cell_type": "code",
   "execution_count": 63,
   "metadata": {},
   "outputs": [],
   "source": [
    "#implement the knn classifier\n",
    "knn5 = KNeighborsClassifier(n_neighbors = 5)\n",
    "knn1 = KNeighborsClassifier(n_neighbors = 1)"
   ]
  },
  {
   "cell_type": "code",
   "execution_count": 57,
   "metadata": {},
   "outputs": [
    {
     "data": {
      "text/html": [
       "<div>\n",
       "<style scoped>\n",
       "    .dataframe tbody tr th:only-of-type {\n",
       "        vertical-align: middle;\n",
       "    }\n",
       "\n",
       "    .dataframe tbody tr th {\n",
       "        vertical-align: top;\n",
       "    }\n",
       "\n",
       "    .dataframe thead th {\n",
       "        text-align: right;\n",
       "    }\n",
       "</style>\n",
       "<table border=\"1\" class=\"dataframe\">\n",
       "  <thead>\n",
       "    <tr style=\"text-align: right;\">\n",
       "      <th></th>\n",
       "      <th>movieId</th>\n",
       "      <th>title</th>\n",
       "      <th>genres</th>\n",
       "      <th>userId</th>\n",
       "      <th>rating</th>\n",
       "      <th>timestamp</th>\n",
       "    </tr>\n",
       "  </thead>\n",
       "  <tbody>\n",
       "    <tr>\n",
       "      <th>0</th>\n",
       "      <td>1</td>\n",
       "      <td>Toy Story (1995)</td>\n",
       "      <td>Adventure,Animation,Children,Comedy,Fantasy</td>\n",
       "      <td>3</td>\n",
       "      <td>4.0</td>\n",
       "      <td>1999-12-11 13:36:47</td>\n",
       "    </tr>\n",
       "    <tr>\n",
       "      <th>1</th>\n",
       "      <td>1</td>\n",
       "      <td>Toy Story (1995)</td>\n",
       "      <td>Adventure,Animation,Children,Comedy,Fantasy</td>\n",
       "      <td>6</td>\n",
       "      <td>5.0</td>\n",
       "      <td>1997-03-13 17:50:52</td>\n",
       "    </tr>\n",
       "    <tr>\n",
       "      <th>2</th>\n",
       "      <td>1</td>\n",
       "      <td>Toy Story (1995)</td>\n",
       "      <td>Adventure,Animation,Children,Comedy,Fantasy</td>\n",
       "      <td>8</td>\n",
       "      <td>4.0</td>\n",
       "      <td>1996-06-05 13:37:51</td>\n",
       "    </tr>\n",
       "    <tr>\n",
       "      <th>3</th>\n",
       "      <td>1</td>\n",
       "      <td>Toy Story (1995)</td>\n",
       "      <td>Adventure,Animation,Children,Comedy,Fantasy</td>\n",
       "      <td>10</td>\n",
       "      <td>4.0</td>\n",
       "      <td>1999-11-25 02:44:47</td>\n",
       "    </tr>\n",
       "    <tr>\n",
       "      <th>4</th>\n",
       "      <td>1</td>\n",
       "      <td>Toy Story (1995)</td>\n",
       "      <td>Adventure,Animation,Children,Comedy,Fantasy</td>\n",
       "      <td>11</td>\n",
       "      <td>4.5</td>\n",
       "      <td>2009-01-02 01:13:41</td>\n",
       "    </tr>\n",
       "    <tr>\n",
       "      <th>...</th>\n",
       "      <td>...</td>\n",
       "      <td>...</td>\n",
       "      <td>...</td>\n",
       "      <td>...</td>\n",
       "      <td>...</td>\n",
       "      <td>...</td>\n",
       "    </tr>\n",
       "    <tr>\n",
       "      <th>20000258</th>\n",
       "      <td>131254</td>\n",
       "      <td>Kein Bund für's Leben (2007)</td>\n",
       "      <td>Comedy</td>\n",
       "      <td>79570</td>\n",
       "      <td>4.0</td>\n",
       "      <td>2015-03-30 19:32:59</td>\n",
       "    </tr>\n",
       "    <tr>\n",
       "      <th>20000259</th>\n",
       "      <td>131256</td>\n",
       "      <td>Feuer, Eis &amp; Dosenbier (2002)</td>\n",
       "      <td>Comedy</td>\n",
       "      <td>79570</td>\n",
       "      <td>4.0</td>\n",
       "      <td>2015-03-30 19:48:08</td>\n",
       "    </tr>\n",
       "    <tr>\n",
       "      <th>20000260</th>\n",
       "      <td>131258</td>\n",
       "      <td>The Pirates (2014)</td>\n",
       "      <td>Adventure</td>\n",
       "      <td>28906</td>\n",
       "      <td>2.5</td>\n",
       "      <td>2015-03-30 19:56:32</td>\n",
       "    </tr>\n",
       "    <tr>\n",
       "      <th>20000261</th>\n",
       "      <td>131260</td>\n",
       "      <td>Rentun Ruusu (2001)</td>\n",
       "      <td>(no genres listed)</td>\n",
       "      <td>65409</td>\n",
       "      <td>3.0</td>\n",
       "      <td>2015-03-30 19:57:46</td>\n",
       "    </tr>\n",
       "    <tr>\n",
       "      <th>20000262</th>\n",
       "      <td>131262</td>\n",
       "      <td>Innocence (2014)</td>\n",
       "      <td>Adventure,Fantasy,Horror</td>\n",
       "      <td>133047</td>\n",
       "      <td>4.0</td>\n",
       "      <td>2015-03-30 20:39:26</td>\n",
       "    </tr>\n",
       "  </tbody>\n",
       "</table>\n",
       "<p>20000263 rows × 6 columns</p>\n",
       "</div>"
      ],
      "text/plain": [
       "          movieId                          title  \\\n",
       "0               1               Toy Story (1995)   \n",
       "1               1               Toy Story (1995)   \n",
       "2               1               Toy Story (1995)   \n",
       "3               1               Toy Story (1995)   \n",
       "4               1               Toy Story (1995)   \n",
       "...           ...                            ...   \n",
       "20000258   131254   Kein Bund für's Leben (2007)   \n",
       "20000259   131256  Feuer, Eis & Dosenbier (2002)   \n",
       "20000260   131258             The Pirates (2014)   \n",
       "20000261   131260            Rentun Ruusu (2001)   \n",
       "20000262   131262               Innocence (2014)   \n",
       "\n",
       "                                               genres  userId  rating  \\\n",
       "0         Adventure,Animation,Children,Comedy,Fantasy       3     4.0   \n",
       "1         Adventure,Animation,Children,Comedy,Fantasy       6     5.0   \n",
       "2         Adventure,Animation,Children,Comedy,Fantasy       8     4.0   \n",
       "3         Adventure,Animation,Children,Comedy,Fantasy      10     4.0   \n",
       "4         Adventure,Animation,Children,Comedy,Fantasy      11     4.5   \n",
       "...                                               ...     ...     ...   \n",
       "20000258                                       Comedy   79570     4.0   \n",
       "20000259                                       Comedy   79570     4.0   \n",
       "20000260                                    Adventure   28906     2.5   \n",
       "20000261                           (no genres listed)   65409     3.0   \n",
       "20000262                     Adventure,Fantasy,Horror  133047     4.0   \n",
       "\n",
       "                    timestamp  \n",
       "0         1999-12-11 13:36:47  \n",
       "1         1997-03-13 17:50:52  \n",
       "2         1996-06-05 13:37:51  \n",
       "3         1999-11-25 02:44:47  \n",
       "4         2009-01-02 01:13:41  \n",
       "...                       ...  \n",
       "20000258  2015-03-30 19:32:59  \n",
       "20000259  2015-03-30 19:48:08  \n",
       "20000260  2015-03-30 19:56:32  \n",
       "20000261  2015-03-30 19:57:46  \n",
       "20000262  2015-03-30 20:39:26  \n",
       "\n",
       "[20000263 rows x 6 columns]"
      ]
     },
     "execution_count": 57,
     "metadata": {},
     "output_type": "execute_result"
    }
   ],
   "source": [
    "movieRating"
   ]
  },
  {
   "cell_type": "code",
   "execution_count": 64,
   "metadata": {},
   "outputs": [],
   "source": [
    "#Predict \n",
    "knn5.fit(X_train, y_train)\n",
    "knn1.fit(X_train, y_train)"
   ]
  },
  {
   "cell_type": "code",
   "execution_count": null,
   "metadata": {},
   "outputs": [],
   "source": [
    "y_pred_5 = knn5.predict(X_test)\n",
    "y_pred_1 = knn1.predict(X_test)"
   ]
  },
  {
   "cell_type": "code",
   "execution_count": null,
   "metadata": {},
   "outputs": [
    {
     "name": "stdout",
     "output_type": "stream",
     "text": [
      "Accuracy with k=5 27.398458340349908\n",
      "Accuracy with k=1 33.14158253111059\n"
     ]
    }
   ],
   "source": [
    "from sklearn.metrics import accuracy_score\n",
    "print(\"Accuracy with k=5\", accuracy_score(y_test, y_pred_5)*100)\n",
    "print(\"Accuracy with k=1\", accuracy_score(y_test, y_pred_1)*100)"
   ]
  }
 ],
 "metadata": {
  "interpreter": {
   "hash": "a9e1881a6691a46cc27ef03d802d41274447dfca07ffcaefa5b077f317ad1d1d"
  },
  "kernelspec": {
   "display_name": "Python 3.8.12 64-bit ('dt_matrix': conda)",
   "name": "python3"
  },
  "language_info": {
   "codemirror_mode": {
    "name": "ipython",
    "version": 3
   },
   "file_extension": ".py",
   "mimetype": "text/x-python",
   "name": "python",
   "nbconvert_exporter": "python",
   "pygments_lexer": "ipython3",
   "version": "3.8.12"
  },
  "vscode": {
   "interpreter": {
    "hash": "b6d97ab7d53adc21b49ebce7ea81579ac4c6d323f514610f837ab27e3803e215"
   }
  }
 },
 "nbformat": 4,
 "nbformat_minor": 2
}
